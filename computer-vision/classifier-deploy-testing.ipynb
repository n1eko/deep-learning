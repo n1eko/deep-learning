{
  "cells": [
    {
      "cell_type": "markdown",
      "metadata": {
        "colab_type": "text",
        "id": "view-in-github"
      },
      "source": [
        "<a href=\"https://colab.research.google.com/github/n1eko/deep-learning/blob/main/computer-vision/classifier-deploy-testing.ipynb\" target=\"_parent\"><img src=\"https://colab.research.google.com/assets/colab-badge.svg\" alt=\"Open In Colab\"/></a>"
      ]
    },
    {
      "cell_type": "code",
      "execution_count": 1,
      "metadata": {
        "colab": {
          "base_uri": "https://localhost:8080/"
        },
        "id": "NQy0GFWkDbM7",
        "outputId": "5ce75029-6233-4b05-de80-5ad8698d25a6"
      },
      "outputs": [
        {
          "name": "stdout",
          "output_type": "stream",
          "text": [
            "Looking in indexes: https://pypi.org/simple, https://us-python.pkg.dev/colab-wheels/public/simple/\n",
            "Collecting voila\n",
            "  Downloading voila-0.4.0-py3-none-any.whl (5.5 MB)\n",
            "\u001b[2K     \u001b[90m━━━━━━━━━━━━━━━━━━━━━━━━━━━━━━━━━━━━━━━━\u001b[0m \u001b[32m5.5/5.5 MB\u001b[0m \u001b[31m80.9 MB/s\u001b[0m eta \u001b[36m0:00:00\u001b[0m\n",
            "\u001b[?25hRequirement already satisfied: traitlets<6,>=5.0.3 in /usr/local/lib/python3.10/dist-packages (from voila) (5.7.1)\n",
            "Requirement already satisfied: nbclient<0.8,>=0.4.0 in /usr/local/lib/python3.10/dist-packages (from voila) (0.7.4)\n",
            "Collecting jupyterlab-server<3,>=2.3.0\n",
            "  Downloading jupyterlab_server-2.22.1-py3-none-any.whl (57 kB)\n",
            "\u001b[2K     \u001b[90m━━━━━━━━━━━━━━━━━━━━━━━━━━━━━━━━━━━━━━━━\u001b[0m \u001b[32m57.0/57.0 kB\u001b[0m \u001b[31m6.7 MB/s\u001b[0m eta \u001b[36m0:00:00\u001b[0m\n",
            "\u001b[?25hRequirement already satisfied: nbconvert<8,>=6.4.5 in /usr/local/lib/python3.10/dist-packages (from voila) (6.5.4)\n",
            "Requirement already satisfied: jupyter-client<=7.4.1,>=6.1.3 in /usr/local/lib/python3.10/dist-packages (from voila) (6.1.12)\n",
            "Requirement already satisfied: jupyter-server<2.0.0,>=1.18 in /usr/local/lib/python3.10/dist-packages (from voila) (1.24.0)\n",
            "Requirement already satisfied: jupyter-core>=4.11.0 in /usr/local/lib/python3.10/dist-packages (from voila) (5.3.0)\n",
            "Collecting websockets>=9.0\n",
            "  Downloading websockets-11.0.2-cp310-cp310-manylinux_2_5_x86_64.manylinux1_x86_64.manylinux_2_17_x86_64.manylinux2014_x86_64.whl (129 kB)\n",
            "\u001b[2K     \u001b[90m━━━━━━━━━━━━━━━━━━━━━━━━━━━━━━━━━━━━━━\u001b[0m \u001b[32m129.9/129.9 kB\u001b[0m \u001b[31m14.4 MB/s\u001b[0m eta \u001b[36m0:00:00\u001b[0m\n",
            "\u001b[?25hRequirement already satisfied: python-dateutil>=2.1 in /usr/local/lib/python3.10/dist-packages (from jupyter-client<=7.4.1,>=6.1.3->voila) (2.8.2)\n",
            "Requirement already satisfied: tornado>=4.1 in /usr/local/lib/python3.10/dist-packages (from jupyter-client<=7.4.1,>=6.1.3->voila) (6.2)\n",
            "Requirement already satisfied: pyzmq>=13 in /usr/local/lib/python3.10/dist-packages (from jupyter-client<=7.4.1,>=6.1.3->voila) (23.2.1)\n",
            "Requirement already satisfied: platformdirs>=2.5 in /usr/local/lib/python3.10/dist-packages (from jupyter-core>=4.11.0->voila) (3.3.0)\n",
            "Requirement already satisfied: argon2-cffi in /usr/local/lib/python3.10/dist-packages (from jupyter-server<2.0.0,>=1.18->voila) (21.3.0)\n",
            "Requirement already satisfied: prometheus-client in /usr/local/lib/python3.10/dist-packages (from jupyter-server<2.0.0,>=1.18->voila) (0.16.0)\n",
            "Requirement already satisfied: websocket-client in /usr/local/lib/python3.10/dist-packages (from jupyter-server<2.0.0,>=1.18->voila) (1.5.1)\n",
            "Requirement already satisfied: anyio<4,>=3.1.0 in /usr/local/lib/python3.10/dist-packages (from jupyter-server<2.0.0,>=1.18->voila) (3.6.2)\n",
            "Requirement already satisfied: packaging in /usr/local/lib/python3.10/dist-packages (from jupyter-server<2.0.0,>=1.18->voila) (23.1)\n",
            "Requirement already satisfied: Send2Trash in /usr/local/lib/python3.10/dist-packages (from jupyter-server<2.0.0,>=1.18->voila) (1.8.0)\n",
            "Requirement already satisfied: terminado>=0.8.3 in /usr/local/lib/python3.10/dist-packages (from jupyter-server<2.0.0,>=1.18->voila) (0.17.1)\n",
            "Requirement already satisfied: jinja2 in /usr/local/lib/python3.10/dist-packages (from jupyter-server<2.0.0,>=1.18->voila) (3.1.2)\n",
            "Requirement already satisfied: nbformat>=5.2.0 in /usr/local/lib/python3.10/dist-packages (from jupyter-server<2.0.0,>=1.18->voila) (5.8.0)\n",
            "Requirement already satisfied: babel>=2.10 in /usr/local/lib/python3.10/dist-packages (from jupyterlab-server<3,>=2.3.0->voila) (2.12.1)\n",
            "Collecting requests>=2.28\n",
            "  Downloading requests-2.29.0-py3-none-any.whl (62 kB)\n",
            "\u001b[2K     \u001b[90m━━━━━━━━━━━━━━━━━━━━━━━━━━━━━━━━━━━━━━━━\u001b[0m \u001b[32m62.5/62.5 kB\u001b[0m \u001b[31m7.6 MB/s\u001b[0m eta \u001b[36m0:00:00\u001b[0m\n",
            "\u001b[?25hCollecting json5>=0.9.0\n",
            "  Downloading json5-0.9.11-py2.py3-none-any.whl (19 kB)\n",
            "Collecting jsonschema>=4.17.3\n",
            "  Downloading jsonschema-4.17.3-py3-none-any.whl (90 kB)\n",
            "\u001b[2K     \u001b[90m━━━━━━━━━━━━━━━━━━━━━━━━━━━━━━━━━━━━━━━━\u001b[0m \u001b[32m90.4/90.4 kB\u001b[0m \u001b[31m9.9 MB/s\u001b[0m eta \u001b[36m0:00:00\u001b[0m\n",
            "\u001b[?25hRequirement already satisfied: beautifulsoup4 in /usr/local/lib/python3.10/dist-packages (from nbconvert<8,>=6.4.5->voila) (4.11.2)\n",
            "Requirement already satisfied: bleach in /usr/local/lib/python3.10/dist-packages (from nbconvert<8,>=6.4.5->voila) (6.0.0)\n",
            "Requirement already satisfied: entrypoints>=0.2.2 in /usr/local/lib/python3.10/dist-packages (from nbconvert<8,>=6.4.5->voila) (0.4)\n",
            "Requirement already satisfied: pygments>=2.4.1 in /usr/local/lib/python3.10/dist-packages (from nbconvert<8,>=6.4.5->voila) (2.14.0)\n",
            "Requirement already satisfied: defusedxml in /usr/local/lib/python3.10/dist-packages (from nbconvert<8,>=6.4.5->voila) (0.7.1)\n",
            "Requirement already satisfied: pandocfilters>=1.4.1 in /usr/local/lib/python3.10/dist-packages (from nbconvert<8,>=6.4.5->voila) (1.5.0)\n",
            "Requirement already satisfied: jupyterlab-pygments in /usr/local/lib/python3.10/dist-packages (from nbconvert<8,>=6.4.5->voila) (0.2.2)\n",
            "Requirement already satisfied: lxml in /usr/local/lib/python3.10/dist-packages (from nbconvert<8,>=6.4.5->voila) (4.9.2)\n",
            "Requirement already satisfied: MarkupSafe>=2.0 in /usr/local/lib/python3.10/dist-packages (from nbconvert<8,>=6.4.5->voila) (2.1.2)\n",
            "Requirement already satisfied: tinycss2 in /usr/local/lib/python3.10/dist-packages (from nbconvert<8,>=6.4.5->voila) (1.2.1)\n",
            "Requirement already satisfied: mistune<2,>=0.8.1 in /usr/local/lib/python3.10/dist-packages (from nbconvert<8,>=6.4.5->voila) (0.8.4)\n",
            "Requirement already satisfied: idna>=2.8 in /usr/local/lib/python3.10/dist-packages (from anyio<4,>=3.1.0->jupyter-server<2.0.0,>=1.18->voila) (3.4)\n",
            "Requirement already satisfied: sniffio>=1.1 in /usr/local/lib/python3.10/dist-packages (from anyio<4,>=3.1.0->jupyter-server<2.0.0,>=1.18->voila) (1.3.0)\n",
            "Requirement already satisfied: attrs>=17.4.0 in /usr/local/lib/python3.10/dist-packages (from jsonschema>=4.17.3->jupyterlab-server<3,>=2.3.0->voila) (23.1.0)\n",
            "Requirement already satisfied: pyrsistent!=0.17.0,!=0.17.1,!=0.17.2,>=0.14.0 in /usr/local/lib/python3.10/dist-packages (from jsonschema>=4.17.3->jupyterlab-server<3,>=2.3.0->voila) (0.19.3)\n",
            "Requirement already satisfied: fastjsonschema in /usr/local/lib/python3.10/dist-packages (from nbformat>=5.2.0->jupyter-server<2.0.0,>=1.18->voila) (2.16.3)\n",
            "Requirement already satisfied: six>=1.5 in /usr/local/lib/python3.10/dist-packages (from python-dateutil>=2.1->jupyter-client<=7.4.1,>=6.1.3->voila) (1.16.0)\n",
            "Requirement already satisfied: charset-normalizer<4,>=2 in /usr/local/lib/python3.10/dist-packages (from requests>=2.28->jupyterlab-server<3,>=2.3.0->voila) (2.0.12)\n",
            "Requirement already satisfied: urllib3<1.27,>=1.21.1 in /usr/local/lib/python3.10/dist-packages (from requests>=2.28->jupyterlab-server<3,>=2.3.0->voila) (1.26.15)\n",
            "Requirement already satisfied: certifi>=2017.4.17 in /usr/local/lib/python3.10/dist-packages (from requests>=2.28->jupyterlab-server<3,>=2.3.0->voila) (2022.12.7)\n",
            "Requirement already satisfied: ptyprocess in /usr/local/lib/python3.10/dist-packages (from terminado>=0.8.3->jupyter-server<2.0.0,>=1.18->voila) (0.7.0)\n",
            "Requirement already satisfied: argon2-cffi-bindings in /usr/local/lib/python3.10/dist-packages (from argon2-cffi->jupyter-server<2.0.0,>=1.18->voila) (21.2.0)\n",
            "Requirement already satisfied: soupsieve>1.2 in /usr/local/lib/python3.10/dist-packages (from beautifulsoup4->nbconvert<8,>=6.4.5->voila) (2.4.1)\n",
            "Requirement already satisfied: webencodings in /usr/local/lib/python3.10/dist-packages (from bleach->nbconvert<8,>=6.4.5->voila) (0.5.1)\n",
            "Requirement already satisfied: cffi>=1.0.1 in /usr/local/lib/python3.10/dist-packages (from argon2-cffi-bindings->argon2-cffi->jupyter-server<2.0.0,>=1.18->voila) (1.15.1)\n",
            "Requirement already satisfied: pycparser in /usr/local/lib/python3.10/dist-packages (from cffi>=1.0.1->argon2-cffi-bindings->argon2-cffi->jupyter-server<2.0.0,>=1.18->voila) (2.21)\n",
            "Installing collected packages: json5, websockets, requests, jsonschema, jupyterlab-server, voila\n",
            "  Attempting uninstall: requests\n",
            "    Found existing installation: requests 2.27.1\n",
            "    Uninstalling requests-2.27.1:\n",
            "      Successfully uninstalled requests-2.27.1\n",
            "  Attempting uninstall: jsonschema\n",
            "    Found existing installation: jsonschema 4.3.3\n",
            "    Uninstalling jsonschema-4.3.3:\n",
            "      Successfully uninstalled jsonschema-4.3.3\n",
            "Successfully installed json5-0.9.11 jsonschema-4.17.3 jupyterlab-server-2.22.1 requests-2.29.0 voila-0.4.0 websockets-11.0.2\n",
            "Enabling: voila\n",
            "- Writing config: /usr/etc/jupyter\n",
            "    - Validating...\n",
            "      voila 0.4.0 \u001b[32mOK\u001b[0m\n"
          ]
        }
      ],
      "source": [
        "!pip install voila\n",
        "!jupyter serverextension enable --sys-prefix voila"
      ]
    },
    {
      "cell_type": "code",
      "execution_count": 2,
      "metadata": {
        "id": "AYrZJV83D--s"
      },
      "outputs": [],
      "source": [
        "from fastai.vision.all import *\n",
        "from fastai.vision.widgets import *"
      ]
    },
    {
      "cell_type": "code",
      "execution_count": 4,
      "metadata": {
        "id": "ChLDxL5aEdMN"
      },
      "outputs": [],
      "source": [
        "path = Path()\n",
        "learn_inf = load_learner('jdm-model.pkl', cpu=True)\n",
        "btn_upload = widgets.FileUpload()\n",
        "out_pl = widgets.Output()\n",
        "lbl_pred = widgets.Label()"
      ]
    },
    {
      "cell_type": "code",
      "execution_count": 5,
      "metadata": {
        "id": "ilYMCYjXF_EG"
      },
      "outputs": [],
      "source": [
        "def on_data_change(change):\n",
        "    lbl_pred.value = ''\n",
        "    img = PILImage.create(btn_upload.data[-1])\n",
        "    out_pl.clear_output()\n",
        "    with out_pl: display(img.to_thumb(128,128))\n",
        "    pred,pred_idx,probs = learn_inf.predict(img)\n",
        "    lbl_pred.value = f'Prediction: {pred}; Probability: {probs[pred_idx]:.04f}'"
      ]
    },
    {
      "cell_type": "code",
      "execution_count": 6,
      "metadata": {
        "id": "CkjFCiwVGBSp"
      },
      "outputs": [],
      "source": [
        "btn_upload.observe(on_data_change, names=['data'])"
      ]
    },
    {
      "cell_type": "code",
      "execution_count": 11,
      "metadata": {
        "colab": {
          "base_uri": "https://localhost:8080/",
          "height": 241,
          "referenced_widgets": [
            "14af46a9622c4f239bf91c50504cb2c9",
            "65848f5a6cf34327909041a3e6b90bea",
            "fb6522baa4c545879b294dd01d455d9a",
            "9bdbc2d84b6044049ab2ebcadb66b98f",
            "0eab39937df94282bcfdd73cb3757609",
            "b19efed53d93476f88dd246c3a6171e4",
            "4ca17d1d5dc74fc3b44d4d9e45dc3780",
            "fda6e806030a408ba7ba67aca89fafef",
            "eb15429375924466a9f7c4fc0da3bdee",
            "e160bea1221c47828d5151b7a15a45e7",
            "7a3789bff16446aea5199d9fccc53904",
            "da91ba3cf2514608a9b49d95f17e86f0",
            "0450f72729fd4591a133cc46fe32f15b"
          ]
        },
        "id": "yumCz6FDGCkh",
        "outputId": "3219e07c-5124-41fd-f93f-c3faf0ccd1e9"
      },
      "outputs": [
        {
          "data": {
            "application/vnd.jupyter.widget-view+json": {
              "model_id": "14af46a9622c4f239bf91c50504cb2c9",
              "version_major": 2,
              "version_minor": 0
            },
            "text/plain": [
              "VBox(children=(Label(value='Select your car:'), FileUpload(value={'013d7c97-bcd0-41fa-b4e1-2d857d156df0.jpg': …"
            ]
          },
          "metadata": {},
          "output_type": "display_data"
        }
      ],
      "source": [
        "display(VBox([widgets.Label('Select your car:'), btn_upload, out_pl, lbl_pred]))"
      ]
    }
  ],
  "metadata": {
    "colab": {
      "authorship_tag": "ABX9TyOTZUXvKy3A41B+zKtmD3e/",
      "include_colab_link": true,
      "provenance": []
    },
    "kernelspec": {
      "display_name": "Python 3",
      "name": "python3"
    },
    "language_info": {
      "name": "python"
    },
    "widgets": {
      "application/vnd.jupyter.widget-state+json": {
        "0450f72729fd4591a133cc46fe32f15b": {
          "model_module": "@jupyter-widgets/base",
          "model_module_version": "1.2.0",
          "model_name": "LayoutModel",
          "state": {
            "_model_module": "@jupyter-widgets/base",
            "_model_module_version": "1.2.0",
            "_model_name": "LayoutModel",
            "_view_count": null,
            "_view_module": "@jupyter-widgets/base",
            "_view_module_version": "1.2.0",
            "_view_name": "LayoutView",
            "align_content": null,
            "align_items": null,
            "align_self": null,
            "border": null,
            "bottom": null,
            "display": null,
            "flex": null,
            "flex_flow": null,
            "grid_area": null,
            "grid_auto_columns": null,
            "grid_auto_flow": null,
            "grid_auto_rows": null,
            "grid_column": null,
            "grid_gap": null,
            "grid_row": null,
            "grid_template_areas": null,
            "grid_template_columns": null,
            "grid_template_rows": null,
            "height": null,
            "justify_content": null,
            "justify_items": null,
            "left": null,
            "margin": null,
            "max_height": null,
            "max_width": null,
            "min_height": null,
            "min_width": null,
            "object_fit": null,
            "object_position": null,
            "order": null,
            "overflow": null,
            "overflow_x": null,
            "overflow_y": null,
            "padding": null,
            "right": null,
            "top": null,
            "visibility": null,
            "width": null
          }
        },
        "0eab39937df94282bcfdd73cb3757609": {
          "model_module": "@jupyter-widgets/controls",
          "model_module_version": "1.5.0",
          "model_name": "LabelModel",
          "state": {
            "_dom_classes": [],
            "_model_module": "@jupyter-widgets/controls",
            "_model_module_version": "1.5.0",
            "_model_name": "LabelModel",
            "_view_count": null,
            "_view_module": "@jupyter-widgets/controls",
            "_view_module_version": "1.5.0",
            "_view_name": "LabelView",
            "description": "",
            "description_tooltip": null,
            "layout": "IPY_MODEL_7a3789bff16446aea5199d9fccc53904",
            "placeholder": "​",
            "style": "IPY_MODEL_da91ba3cf2514608a9b49d95f17e86f0",
            "value": "Prediction: rx8; Probability: 0.8667"
          }
        },
        "14af46a9622c4f239bf91c50504cb2c9": {
          "model_module": "@jupyter-widgets/controls",
          "model_module_version": "1.5.0",
          "model_name": "VBoxModel",
          "state": {
            "_dom_classes": [],
            "_model_module": "@jupyter-widgets/controls",
            "_model_module_version": "1.5.0",
            "_model_name": "VBoxModel",
            "_view_count": null,
            "_view_module": "@jupyter-widgets/controls",
            "_view_module_version": "1.5.0",
            "_view_name": "VBoxView",
            "box_style": "",
            "children": [
              "IPY_MODEL_65848f5a6cf34327909041a3e6b90bea",
              "IPY_MODEL_fb6522baa4c545879b294dd01d455d9a",
              "IPY_MODEL_9bdbc2d84b6044049ab2ebcadb66b98f",
              "IPY_MODEL_0eab39937df94282bcfdd73cb3757609"
            ],
            "layout": "IPY_MODEL_b19efed53d93476f88dd246c3a6171e4"
          }
        },
        "4ca17d1d5dc74fc3b44d4d9e45dc3780": {
          "model_module": "@jupyter-widgets/base",
          "model_module_version": "1.2.0",
          "model_name": "LayoutModel",
          "state": {
            "_model_module": "@jupyter-widgets/base",
            "_model_module_version": "1.2.0",
            "_model_name": "LayoutModel",
            "_view_count": null,
            "_view_module": "@jupyter-widgets/base",
            "_view_module_version": "1.2.0",
            "_view_name": "LayoutView",
            "align_content": null,
            "align_items": null,
            "align_self": null,
            "border": null,
            "bottom": null,
            "display": null,
            "flex": null,
            "flex_flow": null,
            "grid_area": null,
            "grid_auto_columns": null,
            "grid_auto_flow": null,
            "grid_auto_rows": null,
            "grid_column": null,
            "grid_gap": null,
            "grid_row": null,
            "grid_template_areas": null,
            "grid_template_columns": null,
            "grid_template_rows": null,
            "height": null,
            "justify_content": null,
            "justify_items": null,
            "left": null,
            "margin": null,
            "max_height": null,
            "max_width": null,
            "min_height": null,
            "min_width": null,
            "object_fit": null,
            "object_position": null,
            "order": null,
            "overflow": null,
            "overflow_x": null,
            "overflow_y": null,
            "padding": null,
            "right": null,
            "top": null,
            "visibility": null,
            "width": null
          }
        },
        "65848f5a6cf34327909041a3e6b90bea": {
          "model_module": "@jupyter-widgets/controls",
          "model_module_version": "1.5.0",
          "model_name": "LabelModel",
          "state": {
            "_dom_classes": [],
            "_model_module": "@jupyter-widgets/controls",
            "_model_module_version": "1.5.0",
            "_model_name": "LabelModel",
            "_view_count": null,
            "_view_module": "@jupyter-widgets/controls",
            "_view_module_version": "1.5.0",
            "_view_name": "LabelView",
            "description": "",
            "description_tooltip": null,
            "layout": "IPY_MODEL_4ca17d1d5dc74fc3b44d4d9e45dc3780",
            "placeholder": "​",
            "style": "IPY_MODEL_fda6e806030a408ba7ba67aca89fafef",
            "value": "Select your car:"
          }
        },
        "7a3789bff16446aea5199d9fccc53904": {
          "model_module": "@jupyter-widgets/base",
          "model_module_version": "1.2.0",
          "model_name": "LayoutModel",
          "state": {
            "_model_module": "@jupyter-widgets/base",
            "_model_module_version": "1.2.0",
            "_model_name": "LayoutModel",
            "_view_count": null,
            "_view_module": "@jupyter-widgets/base",
            "_view_module_version": "1.2.0",
            "_view_name": "LayoutView",
            "align_content": null,
            "align_items": null,
            "align_self": null,
            "border": null,
            "bottom": null,
            "display": null,
            "flex": null,
            "flex_flow": null,
            "grid_area": null,
            "grid_auto_columns": null,
            "grid_auto_flow": null,
            "grid_auto_rows": null,
            "grid_column": null,
            "grid_gap": null,
            "grid_row": null,
            "grid_template_areas": null,
            "grid_template_columns": null,
            "grid_template_rows": null,
            "height": null,
            "justify_content": null,
            "justify_items": null,
            "left": null,
            "margin": null,
            "max_height": null,
            "max_width": null,
            "min_height": null,
            "min_width": null,
            "object_fit": null,
            "object_position": null,
            "order": null,
            "overflow": null,
            "overflow_x": null,
            "overflow_y": null,
            "padding": null,
            "right": null,
            "top": null,
            "visibility": null,
            "width": null
          }
        },
        "9bdbc2d84b6044049ab2ebcadb66b98f": {
          "model_module": "@jupyter-widgets/output",
          "model_module_version": "1.0.0",
          "model_name": "OutputModel",
          "state": {
            "_dom_classes": [],
            "_model_module": "@jupyter-widgets/output",
            "_model_module_version": "1.0.0",
            "_model_name": "OutputModel",
            "_view_count": null,
            "_view_module": "@jupyter-widgets/output",
            "_view_module_version": "1.0.0",
            "_view_name": "OutputView",
            "layout": "IPY_MODEL_0450f72729fd4591a133cc46fe32f15b",
            "msg_id": "",
            "outputs": [
              {
                "data": {
                  "image/png": "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\n",
                  "text/plain": "<PIL.Image.Image image mode=RGB size=96x128>"
                },
                "metadata": {},
                "output_type": "display_data"
              }
            ]
          }
        },
        "b19efed53d93476f88dd246c3a6171e4": {
          "model_module": "@jupyter-widgets/base",
          "model_module_version": "1.2.0",
          "model_name": "LayoutModel",
          "state": {
            "_model_module": "@jupyter-widgets/base",
            "_model_module_version": "1.2.0",
            "_model_name": "LayoutModel",
            "_view_count": null,
            "_view_module": "@jupyter-widgets/base",
            "_view_module_version": "1.2.0",
            "_view_name": "LayoutView",
            "align_content": null,
            "align_items": null,
            "align_self": null,
            "border": null,
            "bottom": null,
            "display": null,
            "flex": null,
            "flex_flow": null,
            "grid_area": null,
            "grid_auto_columns": null,
            "grid_auto_flow": null,
            "grid_auto_rows": null,
            "grid_column": null,
            "grid_gap": null,
            "grid_row": null,
            "grid_template_areas": null,
            "grid_template_columns": null,
            "grid_template_rows": null,
            "height": null,
            "justify_content": null,
            "justify_items": null,
            "left": null,
            "margin": null,
            "max_height": null,
            "max_width": null,
            "min_height": null,
            "min_width": null,
            "object_fit": null,
            "object_position": null,
            "order": null,
            "overflow": null,
            "overflow_x": null,
            "overflow_y": null,
            "padding": null,
            "right": null,
            "top": null,
            "visibility": null,
            "width": null
          }
        },
        "da91ba3cf2514608a9b49d95f17e86f0": {
          "model_module": "@jupyter-widgets/controls",
          "model_module_version": "1.5.0",
          "model_name": "DescriptionStyleModel",
          "state": {
            "_model_module": "@jupyter-widgets/controls",
            "_model_module_version": "1.5.0",
            "_model_name": "DescriptionStyleModel",
            "_view_count": null,
            "_view_module": "@jupyter-widgets/base",
            "_view_module_version": "1.2.0",
            "_view_name": "StyleView",
            "description_width": ""
          }
        },
        "e160bea1221c47828d5151b7a15a45e7": {
          "model_module": "@jupyter-widgets/controls",
          "model_module_version": "1.5.0",
          "model_name": "ButtonStyleModel",
          "state": {
            "_model_module": "@jupyter-widgets/controls",
            "_model_module_version": "1.5.0",
            "_model_name": "ButtonStyleModel",
            "_view_count": null,
            "_view_module": "@jupyter-widgets/base",
            "_view_module_version": "1.2.0",
            "_view_name": "StyleView",
            "button_color": null,
            "font_weight": ""
          }
        },
        "eb15429375924466a9f7c4fc0da3bdee": {
          "model_module": "@jupyter-widgets/base",
          "model_module_version": "1.2.0",
          "model_name": "LayoutModel",
          "state": {
            "_model_module": "@jupyter-widgets/base",
            "_model_module_version": "1.2.0",
            "_model_name": "LayoutModel",
            "_view_count": null,
            "_view_module": "@jupyter-widgets/base",
            "_view_module_version": "1.2.0",
            "_view_name": "LayoutView",
            "align_content": null,
            "align_items": null,
            "align_self": null,
            "border": null,
            "bottom": null,
            "display": null,
            "flex": null,
            "flex_flow": null,
            "grid_area": null,
            "grid_auto_columns": null,
            "grid_auto_flow": null,
            "grid_auto_rows": null,
            "grid_column": null,
            "grid_gap": null,
            "grid_row": null,
            "grid_template_areas": null,
            "grid_template_columns": null,
            "grid_template_rows": null,
            "height": null,
            "justify_content": null,
            "justify_items": null,
            "left": null,
            "margin": null,
            "max_height": null,
            "max_width": null,
            "min_height": null,
            "min_width": null,
            "object_fit": null,
            "object_position": null,
            "order": null,
            "overflow": null,
            "overflow_x": null,
            "overflow_y": null,
            "padding": null,
            "right": null,
            "top": null,
            "visibility": null,
            "width": null
          }
        },
        "fb6522baa4c545879b294dd01d455d9a": {
          "model_module": "@jupyter-widgets/controls",
          "model_module_version": "1.5.0",
          "model_name": "FileUploadModel",
          "state": {
            "_counter": 2,
            "_dom_classes": [],
            "_model_module": "@jupyter-widgets/controls",
            "_model_module_version": "1.5.0",
            "_model_name": "FileUploadModel",
            "_view_count": null,
            "_view_module": "@jupyter-widgets/controls",
            "_view_module_version": "1.5.0",
            "_view_name": "FileUploadView",
            "accept": "",
            "button_style": "",
            "data": [
              null
            ],
            "description": "Upload",
            "description_tooltip": null,
            "disabled": false,
            "error": "",
            "icon": "upload",
            "layout": "IPY_MODEL_eb15429375924466a9f7c4fc0da3bdee",
            "metadata": [
              {
                "lastModified": 1682721038054,
                "name": "013d7c97-bcd0-41fa-b4e1-2d857d156df0.jpg",
                "size": 360614,
                "type": "image/jpeg"
              }
            ],
            "multiple": false,
            "style": "IPY_MODEL_e160bea1221c47828d5151b7a15a45e7"
          }
        },
        "fda6e806030a408ba7ba67aca89fafef": {
          "model_module": "@jupyter-widgets/controls",
          "model_module_version": "1.5.0",
          "model_name": "DescriptionStyleModel",
          "state": {
            "_model_module": "@jupyter-widgets/controls",
            "_model_module_version": "1.5.0",
            "_model_name": "DescriptionStyleModel",
            "_view_count": null,
            "_view_module": "@jupyter-widgets/base",
            "_view_module_version": "1.2.0",
            "_view_name": "StyleView",
            "description_width": ""
          }
        }
      }
    }
  },
  "nbformat": 4,
  "nbformat_minor": 0
}
